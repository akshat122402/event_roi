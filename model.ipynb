{
  "cells": [
    {
      "cell_type": "code",
      "execution_count": 3,
      "metadata": {
        "id": "fvkBmwc-nMVF"
      },
      "outputs": [],
      "source": [
        "import pandas as pd\n",
        "import statistics\n",
        "import numpy as np\n",
        "import tensorflow as tf\n",
        "from sklearn.preprocessing import OneHotEncoder, StandardScaler\n",
        "from sklearn.compose import ColumnTransformer\n",
        "from sklearn.pipeline import Pipeline\n",
        "from sklearn.ensemble import RandomForestRegressor\n",
        "from sklearn.model_selection import train_test_split\n",
        "from sklearn.linear_model import LinearRegression, Lasso, Ridge, ElasticNet\n",
        "from sklearn.svm import SVR\n",
        "from sklearn.tree import DecisionTreeRegressor\n",
        "from sklearn.ensemble import RandomForestRegressor"
      ]
    },
    {
      "cell_type": "code",
      "execution_count": 4,
      "metadata": {
        "colab": {
          "base_uri": "https://localhost:8080/",
          "height": 293
        },
        "id": "6aBb7UCNnrrS",
        "outputId": "146d31a8-9fdf-4b35-d229-ab8264361b6b"
      },
      "outputs": [
        {
          "data": {
            "text/html": [
              "<div>\n",
              "<style scoped>\n",
              "    .dataframe tbody tr th:only-of-type {\n",
              "        vertical-align: middle;\n",
              "    }\n",
              "\n",
              "    .dataframe tbody tr th {\n",
              "        vertical-align: top;\n",
              "    }\n",
              "\n",
              "    .dataframe thead th {\n",
              "        text-align: right;\n",
              "    }\n",
              "</style>\n",
              "<table border=\"1\" class=\"dataframe\">\n",
              "  <thead>\n",
              "    <tr style=\"text-align: right;\">\n",
              "      <th></th>\n",
              "      <th>Event Type</th>\n",
              "      <th>Sponsor Types</th>\n",
              "      <th>Sponsor Costs</th>\n",
              "      <th>Expected Footfall</th>\n",
              "      <th>Budget</th>\n",
              "      <th>Total Revenue</th>\n",
              "      <th>ROI</th>\n",
              "    </tr>\n",
              "  </thead>\n",
              "  <tbody>\n",
              "    <tr>\n",
              "      <th>0</th>\n",
              "      <td>Festivals and fairs</td>\n",
              "      <td>Financial|Merchandise|In Kind</td>\n",
              "      <td>98964.44|20812.52|80396.99</td>\n",
              "      <td>10852</td>\n",
              "      <td>170896.91</td>\n",
              "      <td>208114.73</td>\n",
              "      <td>21.78</td>\n",
              "    </tr>\n",
              "    <tr>\n",
              "      <th>1</th>\n",
              "      <td>Sports events</td>\n",
              "      <td>Merchandise|In Kind|Food Stalls|Influencer|Inf...</td>\n",
              "      <td>30582.89|30125.97|27896.11|64051.25|54598.67</td>\n",
              "      <td>53523</td>\n",
              "      <td>144000.68</td>\n",
              "      <td>166587.41</td>\n",
              "      <td>15.69</td>\n",
              "    </tr>\n",
              "    <tr>\n",
              "      <th>2</th>\n",
              "      <td>Entertainment and media events</td>\n",
              "      <td>Merchandise|Influencer|Media Sponsorship|Phila...</td>\n",
              "      <td>37590.81|86547.63|15244.14|75434.66|15662.31</td>\n",
              "      <td>21050</td>\n",
              "      <td>184722.98</td>\n",
              "      <td>254145.28</td>\n",
              "      <td>37.58</td>\n",
              "    </tr>\n",
              "    <tr>\n",
              "      <th>3</th>\n",
              "      <td>Community and Charity events</td>\n",
              "      <td>Philanthropy|In Kind</td>\n",
              "      <td>8374.48|34478.24</td>\n",
              "      <td>1555</td>\n",
              "      <td>31870.87</td>\n",
              "      <td>52517.53</td>\n",
              "      <td>64.78</td>\n",
              "    </tr>\n",
              "    <tr>\n",
              "      <th>4</th>\n",
              "      <td>Conferences and seminars</td>\n",
              "      <td>In Kind|Philanthropy|Philanthropy</td>\n",
              "      <td>64147.12|77142.88|82455.06</td>\n",
              "      <td>1400</td>\n",
              "      <td>176779.21</td>\n",
              "      <td>272626.79</td>\n",
              "      <td>54.22</td>\n",
              "    </tr>\n",
              "  </tbody>\n",
              "</table>\n",
              "</div>"
            ],
            "text/plain": [
              "                       Event Type  \\\n",
              "0             Festivals and fairs   \n",
              "1                   Sports events   \n",
              "2  Entertainment and media events   \n",
              "3    Community and Charity events   \n",
              "4        Conferences and seminars   \n",
              "\n",
              "                                       Sponsor Types  \\\n",
              "0                      Financial|Merchandise|In Kind   \n",
              "1  Merchandise|In Kind|Food Stalls|Influencer|Inf...   \n",
              "2  Merchandise|Influencer|Media Sponsorship|Phila...   \n",
              "3                               Philanthropy|In Kind   \n",
              "4                  In Kind|Philanthropy|Philanthropy   \n",
              "\n",
              "                                  Sponsor Costs  Expected Footfall     Budget  \\\n",
              "0                    98964.44|20812.52|80396.99              10852  170896.91   \n",
              "1  30582.89|30125.97|27896.11|64051.25|54598.67              53523  144000.68   \n",
              "2  37590.81|86547.63|15244.14|75434.66|15662.31              21050  184722.98   \n",
              "3                              8374.48|34478.24               1555   31870.87   \n",
              "4                    64147.12|77142.88|82455.06               1400  176779.21   \n",
              "\n",
              "   Total Revenue    ROI  \n",
              "0      208114.73  21.78  \n",
              "1      166587.41  15.69  \n",
              "2      254145.28  37.58  \n",
              "3       52517.53  64.78  \n",
              "4      272626.79  54.22  "
            ]
          },
          "execution_count": 4,
          "metadata": {},
          "output_type": "execute_result"
        }
      ],
      "source": [
        "# Load the dataset\n",
        "data = pd.read_csv('event_sponsorship_roi_dataset.csv')\n",
        "\n",
        "# Display the first few rows of the dataset to understand its structure\n",
        "data.head()\n"
      ]
    },
    {
      "cell_type": "code",
      "execution_count": 5,
      "metadata": {
        "id": "RbwSSWQKn0_D"
      },
      "outputs": [],
      "source": [
        "# Split 'Sponsor Costs' and convert to numeric\n",
        "data['Sponsor Costs'] = data['Sponsor Costs'].apply(lambda x: statistics.mean(map(float, x.split('|'))))\n"
      ]
    },
    {
      "cell_type": "code",
      "execution_count": 6,
      "metadata": {
        "colab": {
          "base_uri": "https://localhost:8080/",
          "height": 112
        },
        "id": "rH6n7DTzn5JC",
        "outputId": "940d04b9-907a-4d10-b742-9e89c5832707"
      },
      "outputs": [
        {
          "data": {
            "text/html": [
              "<div>\n",
              "<style scoped>\n",
              "    .dataframe tbody tr th:only-of-type {\n",
              "        vertical-align: middle;\n",
              "    }\n",
              "\n",
              "    .dataframe tbody tr th {\n",
              "        vertical-align: top;\n",
              "    }\n",
              "\n",
              "    .dataframe thead th {\n",
              "        text-align: right;\n",
              "    }\n",
              "</style>\n",
              "<table border=\"1\" class=\"dataframe\">\n",
              "  <thead>\n",
              "    <tr style=\"text-align: right;\">\n",
              "      <th></th>\n",
              "      <th>Event Type</th>\n",
              "      <th>Sponsor Types</th>\n",
              "      <th>Sponsor Costs</th>\n",
              "      <th>Expected Footfall</th>\n",
              "      <th>Budget</th>\n",
              "      <th>Total Revenue</th>\n",
              "      <th>ROI</th>\n",
              "    </tr>\n",
              "  </thead>\n",
              "  <tbody>\n",
              "    <tr>\n",
              "      <th>0</th>\n",
              "      <td>Festivals and fairs</td>\n",
              "      <td>Financial|Merchandise|In Kind</td>\n",
              "      <td>66724.650</td>\n",
              "      <td>10852</td>\n",
              "      <td>170896.91</td>\n",
              "      <td>208114.73</td>\n",
              "      <td>21.78</td>\n",
              "    </tr>\n",
              "    <tr>\n",
              "      <th>1</th>\n",
              "      <td>Sports events</td>\n",
              "      <td>Merchandise|In Kind|Food Stalls|Influencer|Inf...</td>\n",
              "      <td>41450.978</td>\n",
              "      <td>53523</td>\n",
              "      <td>144000.68</td>\n",
              "      <td>166587.41</td>\n",
              "      <td>15.69</td>\n",
              "    </tr>\n",
              "  </tbody>\n",
              "</table>\n",
              "</div>"
            ],
            "text/plain": [
              "            Event Type                                      Sponsor Types  \\\n",
              "0  Festivals and fairs                      Financial|Merchandise|In Kind   \n",
              "1        Sports events  Merchandise|In Kind|Food Stalls|Influencer|Inf...   \n",
              "\n",
              "   Sponsor Costs  Expected Footfall     Budget  Total Revenue    ROI  \n",
              "0      66724.650              10852  170896.91      208114.73  21.78  \n",
              "1      41450.978              53523  144000.68      166587.41  15.69  "
            ]
          },
          "execution_count": 6,
          "metadata": {},
          "output_type": "execute_result"
        }
      ],
      "source": [
        "data.head(2)"
      ]
    },
    {
      "cell_type": "code",
      "execution_count": 7,
      "metadata": {
        "id": "hkN1Y-0-oaM5"
      },
      "outputs": [],
      "source": [
        "# Split 'Sponsor Types' and create dummy variables\n",
        "sponsor_types = data['Sponsor Types'].str.get_dummies(sep='|')\n",
        "data = pd.concat([data.drop('Sponsor Types', axis=1), sponsor_types], axis=1)\n"
      ]
    },
    {
      "cell_type": "code",
      "execution_count": 8,
      "metadata": {
        "colab": {
          "base_uri": "https://localhost:8080/",
          "height": 164
        },
        "id": "gw7It7jrofwF",
        "outputId": "f5845fe5-f8d8-41de-fb56-bf0dee5a9999"
      },
      "outputs": [
        {
          "data": {
            "text/html": [
              "<div>\n",
              "<style scoped>\n",
              "    .dataframe tbody tr th:only-of-type {\n",
              "        vertical-align: middle;\n",
              "    }\n",
              "\n",
              "    .dataframe tbody tr th {\n",
              "        vertical-align: top;\n",
              "    }\n",
              "\n",
              "    .dataframe thead th {\n",
              "        text-align: right;\n",
              "    }\n",
              "</style>\n",
              "<table border=\"1\" class=\"dataframe\">\n",
              "  <thead>\n",
              "    <tr style=\"text-align: right;\">\n",
              "      <th></th>\n",
              "      <th>Event Type</th>\n",
              "      <th>Sponsor Costs</th>\n",
              "      <th>Expected Footfall</th>\n",
              "      <th>Budget</th>\n",
              "      <th>Total Revenue</th>\n",
              "      <th>ROI</th>\n",
              "      <th>Financial</th>\n",
              "      <th>Food Stalls</th>\n",
              "      <th>In Kind</th>\n",
              "      <th>Influencer</th>\n",
              "      <th>Media Sponsorship</th>\n",
              "      <th>Merchandise</th>\n",
              "      <th>Philanthropy</th>\n",
              "    </tr>\n",
              "  </thead>\n",
              "  <tbody>\n",
              "    <tr>\n",
              "      <th>0</th>\n",
              "      <td>Festivals and fairs</td>\n",
              "      <td>66724.650</td>\n",
              "      <td>10852</td>\n",
              "      <td>170896.91</td>\n",
              "      <td>208114.73</td>\n",
              "      <td>21.78</td>\n",
              "      <td>1</td>\n",
              "      <td>0</td>\n",
              "      <td>1</td>\n",
              "      <td>0</td>\n",
              "      <td>0</td>\n",
              "      <td>1</td>\n",
              "      <td>0</td>\n",
              "    </tr>\n",
              "    <tr>\n",
              "      <th>1</th>\n",
              "      <td>Sports events</td>\n",
              "      <td>41450.978</td>\n",
              "      <td>53523</td>\n",
              "      <td>144000.68</td>\n",
              "      <td>166587.41</td>\n",
              "      <td>15.69</td>\n",
              "      <td>0</td>\n",
              "      <td>1</td>\n",
              "      <td>1</td>\n",
              "      <td>1</td>\n",
              "      <td>0</td>\n",
              "      <td>1</td>\n",
              "      <td>0</td>\n",
              "    </tr>\n",
              "  </tbody>\n",
              "</table>\n",
              "</div>"
            ],
            "text/plain": [
              "            Event Type  Sponsor Costs  Expected Footfall     Budget  \\\n",
              "0  Festivals and fairs      66724.650              10852  170896.91   \n",
              "1        Sports events      41450.978              53523  144000.68   \n",
              "\n",
              "   Total Revenue    ROI  Financial  Food Stalls  In Kind  Influencer  \\\n",
              "0      208114.73  21.78          1            0        1           0   \n",
              "1      166587.41  15.69          0            1        1           1   \n",
              "\n",
              "   Media Sponsorship  Merchandise  Philanthropy  \n",
              "0                  0            1             0  \n",
              "1                  0            1             0  "
            ]
          },
          "execution_count": 8,
          "metadata": {},
          "output_type": "execute_result"
        }
      ],
      "source": [
        "data.head(2)"
      ]
    },
    {
      "cell_type": "code",
      "execution_count": 9,
      "metadata": {
        "id": "2byJyYSVooLg"
      },
      "outputs": [],
      "source": [
        "data = pd.get_dummies(data, columns=['Event Type'], dtype=int)"
      ]
    },
    {
      "cell_type": "code",
      "execution_count": 10,
      "metadata": {
        "colab": {
          "base_uri": "https://localhost:8080/",
          "height": 278
        },
        "id": "GSxj63fS75_N",
        "outputId": "a816465a-8610-4b5b-a223-6284e0ab3585"
      },
      "outputs": [
        {
          "data": {
            "text/html": [
              "<div>\n",
              "<style scoped>\n",
              "    .dataframe tbody tr th:only-of-type {\n",
              "        vertical-align: middle;\n",
              "    }\n",
              "\n",
              "    .dataframe tbody tr th {\n",
              "        vertical-align: top;\n",
              "    }\n",
              "\n",
              "    .dataframe thead th {\n",
              "        text-align: right;\n",
              "    }\n",
              "</style>\n",
              "<table border=\"1\" class=\"dataframe\">\n",
              "  <thead>\n",
              "    <tr style=\"text-align: right;\">\n",
              "      <th></th>\n",
              "      <th>Sponsor Costs</th>\n",
              "      <th>Expected Footfall</th>\n",
              "      <th>Budget</th>\n",
              "      <th>Total Revenue</th>\n",
              "      <th>ROI</th>\n",
              "      <th>Financial</th>\n",
              "      <th>Food Stalls</th>\n",
              "      <th>In Kind</th>\n",
              "      <th>Influencer</th>\n",
              "      <th>Media Sponsorship</th>\n",
              "      <th>Merchandise</th>\n",
              "      <th>Philanthropy</th>\n",
              "      <th>Event Type_Community and Charity events</th>\n",
              "      <th>Event Type_Conferences and seminars</th>\n",
              "      <th>Event Type_Entertainment and media events</th>\n",
              "      <th>Event Type_Festivals and fairs</th>\n",
              "      <th>Event Type_Sports events</th>\n",
              "      <th>Event Type_Virtual event</th>\n",
              "    </tr>\n",
              "  </thead>\n",
              "  <tbody>\n",
              "    <tr>\n",
              "      <th>0</th>\n",
              "      <td>66724.650000</td>\n",
              "      <td>10852</td>\n",
              "      <td>170896.91</td>\n",
              "      <td>208114.73</td>\n",
              "      <td>21.78</td>\n",
              "      <td>1</td>\n",
              "      <td>0</td>\n",
              "      <td>1</td>\n",
              "      <td>0</td>\n",
              "      <td>0</td>\n",
              "      <td>1</td>\n",
              "      <td>0</td>\n",
              "      <td>0</td>\n",
              "      <td>0</td>\n",
              "      <td>0</td>\n",
              "      <td>1</td>\n",
              "      <td>0</td>\n",
              "      <td>0</td>\n",
              "    </tr>\n",
              "    <tr>\n",
              "      <th>1</th>\n",
              "      <td>41450.978000</td>\n",
              "      <td>53523</td>\n",
              "      <td>144000.68</td>\n",
              "      <td>166587.41</td>\n",
              "      <td>15.69</td>\n",
              "      <td>0</td>\n",
              "      <td>1</td>\n",
              "      <td>1</td>\n",
              "      <td>1</td>\n",
              "      <td>0</td>\n",
              "      <td>1</td>\n",
              "      <td>0</td>\n",
              "      <td>0</td>\n",
              "      <td>0</td>\n",
              "      <td>0</td>\n",
              "      <td>0</td>\n",
              "      <td>1</td>\n",
              "      <td>0</td>\n",
              "    </tr>\n",
              "    <tr>\n",
              "      <th>2</th>\n",
              "      <td>46095.910000</td>\n",
              "      <td>21050</td>\n",
              "      <td>184722.98</td>\n",
              "      <td>254145.28</td>\n",
              "      <td>37.58</td>\n",
              "      <td>0</td>\n",
              "      <td>0</td>\n",
              "      <td>1</td>\n",
              "      <td>1</td>\n",
              "      <td>1</td>\n",
              "      <td>1</td>\n",
              "      <td>1</td>\n",
              "      <td>0</td>\n",
              "      <td>0</td>\n",
              "      <td>1</td>\n",
              "      <td>0</td>\n",
              "      <td>0</td>\n",
              "      <td>0</td>\n",
              "    </tr>\n",
              "    <tr>\n",
              "      <th>3</th>\n",
              "      <td>21426.360000</td>\n",
              "      <td>1555</td>\n",
              "      <td>31870.87</td>\n",
              "      <td>52517.53</td>\n",
              "      <td>64.78</td>\n",
              "      <td>0</td>\n",
              "      <td>0</td>\n",
              "      <td>1</td>\n",
              "      <td>0</td>\n",
              "      <td>0</td>\n",
              "      <td>0</td>\n",
              "      <td>1</td>\n",
              "      <td>1</td>\n",
              "      <td>0</td>\n",
              "      <td>0</td>\n",
              "      <td>0</td>\n",
              "      <td>0</td>\n",
              "      <td>0</td>\n",
              "    </tr>\n",
              "    <tr>\n",
              "      <th>4</th>\n",
              "      <td>74581.686667</td>\n",
              "      <td>1400</td>\n",
              "      <td>176779.21</td>\n",
              "      <td>272626.79</td>\n",
              "      <td>54.22</td>\n",
              "      <td>0</td>\n",
              "      <td>0</td>\n",
              "      <td>1</td>\n",
              "      <td>0</td>\n",
              "      <td>0</td>\n",
              "      <td>0</td>\n",
              "      <td>1</td>\n",
              "      <td>0</td>\n",
              "      <td>1</td>\n",
              "      <td>0</td>\n",
              "      <td>0</td>\n",
              "      <td>0</td>\n",
              "      <td>0</td>\n",
              "    </tr>\n",
              "  </tbody>\n",
              "</table>\n",
              "</div>"
            ],
            "text/plain": [
              "   Sponsor Costs  Expected Footfall     Budget  Total Revenue    ROI  \\\n",
              "0   66724.650000              10852  170896.91      208114.73  21.78   \n",
              "1   41450.978000              53523  144000.68      166587.41  15.69   \n",
              "2   46095.910000              21050  184722.98      254145.28  37.58   \n",
              "3   21426.360000               1555   31870.87       52517.53  64.78   \n",
              "4   74581.686667               1400  176779.21      272626.79  54.22   \n",
              "\n",
              "   Financial  Food Stalls  In Kind  Influencer  Media Sponsorship  \\\n",
              "0          1            0        1           0                  0   \n",
              "1          0            1        1           1                  0   \n",
              "2          0            0        1           1                  1   \n",
              "3          0            0        1           0                  0   \n",
              "4          0            0        1           0                  0   \n",
              "\n",
              "   Merchandise  Philanthropy  Event Type_Community and Charity events  \\\n",
              "0            1             0                                        0   \n",
              "1            1             0                                        0   \n",
              "2            1             1                                        0   \n",
              "3            0             1                                        1   \n",
              "4            0             1                                        0   \n",
              "\n",
              "   Event Type_Conferences and seminars  \\\n",
              "0                                    0   \n",
              "1                                    0   \n",
              "2                                    0   \n",
              "3                                    0   \n",
              "4                                    1   \n",
              "\n",
              "   Event Type_Entertainment and media events  Event Type_Festivals and fairs  \\\n",
              "0                                          0                               1   \n",
              "1                                          0                               0   \n",
              "2                                          1                               0   \n",
              "3                                          0                               0   \n",
              "4                                          0                               0   \n",
              "\n",
              "   Event Type_Sports events  Event Type_Virtual event  \n",
              "0                         0                         0  \n",
              "1                         1                         0  \n",
              "2                         0                         0  \n",
              "3                         0                         0  \n",
              "4                         0                         0  "
            ]
          },
          "execution_count": 10,
          "metadata": {},
          "output_type": "execute_result"
        }
      ],
      "source": [
        "data.head()"
      ]
    },
    {
      "cell_type": "code",
      "execution_count": 11,
      "metadata": {
        "id": "7ulhV2gjo0kv"
      },
      "outputs": [],
      "source": [
        "# Separate features and target\n",
        "X = data.drop(['Total Revenue', 'ROI'], axis=1)\n",
        "y = data['Total Revenue']"
      ]
    },
    {
      "cell_type": "code",
      "execution_count": 12,
      "metadata": {
        "id": "ZZ3sQu8spsSA"
      },
      "outputs": [],
      "source": [
        "# Split data into training and testing sets\n",
        "X_train, X_test, y_train, y_test = train_test_split(X, y, test_size=0.2, random_state=42)\n"
      ]
    },
    {
      "cell_type": "code",
      "execution_count": 19,
      "metadata": {
        "id": "6TiqzxzknmOA"
      },
      "outputs": [],
      "source": [
        "from sklearn.preprocessing import MinMaxScaler\n",
        "scaler = MinMaxScaler()\n",
        "X_train_scaled = scaler.fit_transform(X_train)\n",
        "X_test_scaled = scaler.transform(X_test)\n",
        "\n",
        "import pickle\n",
        "scaler_filename = 'scaler.pkl'\n",
        "with open(scaler_filename, 'wb') as file:\n",
        "    pickle.dump(scaler, file)"
      ]
    },
    {
      "cell_type": "code",
      "execution_count": 14,
      "metadata": {
        "id": "7yqr2Prnp3y6"
      },
      "outputs": [],
      "source": [
        "r1=LinearRegression()\n",
        "r2=Lasso()\n",
        "r3=Ridge()\n",
        "r4=ElasticNet()\n",
        "r5=SVR()\n",
        "r6=DecisionTreeRegressor()\n",
        "r7=RandomForestRegressor()\n",
        "reg=[r1,r2,r3,r4,r5,r6,r7]\n",
        "names=['LR','LASSO','RIDGE','EL','SVR','DTR','RFR']\n",
        "mse={}\n",
        "r2s={}\n",
        "t={}\n",
        "import time\n",
        "from sklearn.metrics import mean_squared_error,r2_score\n",
        "\n",
        "################################################################################\n",
        "\n",
        "for model,name in zip(reg,names):\n",
        "  t1=time.time()\n",
        "  model.fit(X_train_scaled,y_train)\n",
        "  y_pred=model.predict(X_test_scaled)\n",
        "  t2=time.time()\n",
        "  mse[name]=mean_squared_error(y_test,y_pred)\n",
        "  r2s[name]=r2_score(y_test,y_pred)\n",
        "  t[name]=t2-t1"
      ]
    },
    {
      "cell_type": "code",
      "execution_count": 15,
      "metadata": {
        "colab": {
          "base_uri": "https://localhost:8080/"
        },
        "id": "hMdQ0JqYrF_B",
        "outputId": "1db2fc11-77aa-4586-9c2e-0948a6c7a9ef"
      },
      "outputs": [
        {
          "name": "stdout",
          "output_type": "stream",
          "text": [
            "LR : 92.03141235916932\n",
            "LASSO : 92.0313341301474\n",
            "RIDGE : 92.0076191531405\n",
            "EL : 29.8515781246934\n",
            "SVR : -2.9409384692581364\n",
            "DTR : 83.7578820447371\n",
            "RFR : 91.39937214093355\n"
          ]
        }
      ],
      "source": [
        "for i,j in r2s.items():\n",
        "  print(i,':',j*100)"
      ]
    },
    {
      "cell_type": "code",
      "execution_count": 18,
      "metadata": {},
      "outputs": [
        {
          "name": "stdout",
          "output_type": "stream",
          "text": [
            "LASSO R^2: 92.0313341301474\n",
            "LASSO MSE: 1232849665.1988306\n",
            "LASSO Training Time: 0.014969348907470703\n",
            "Trained Lasso model saved as lasso_model.pkl\n"
          ]
        }
      ],
      "source": [
        "import pickle\n",
        "# Initialize and train the Lasso model\n",
        "lasso = Lasso()\n",
        "\n",
        "t1 = time.time()\n",
        "lasso.fit(X_train_scaled, y_train)\n",
        "y_pred = lasso.predict(X_test_scaled)\n",
        "t2 = time.time()\n",
        "\n",
        "# Evaluate the performance\n",
        "mse_lasso = mean_squared_error(y_test, y_pred)\n",
        "r2_lasso = r2_score(y_test, y_pred)\n",
        "training_time = t2 - t1\n",
        "\n",
        "print('LASSO R^2:', r2_lasso * 100)\n",
        "print('LASSO MSE:', mse_lasso)\n",
        "print('LASSO Training Time:', training_time)\n",
        "\n",
        "# Save the trained Lasso model using pickle\n",
        "model_filename = 'lasso_model.pkl'\n",
        "with open(model_filename, 'wb') as file:\n",
        "    pickle.dump(lasso, file)\n",
        "\n",
        "print(f'Trained Lasso model saved as {model_filename}')\n"
      ]
    },
    {
      "cell_type": "code",
      "execution_count": 16,
      "metadata": {
        "colab": {
          "base_uri": "https://localhost:8080/"
        },
        "id": "MOpfsqi60sjH",
        "outputId": "77adc9aa-e41e-4d46-956a-69eebac76f45"
      },
      "outputs": [
        {
          "name": "stderr",
          "output_type": "stream",
          "text": [
            "c:\\SPONSOGRAM\\.venv\\Lib\\site-packages\\keras\\src\\layers\\core\\dense.py:87: UserWarning: Do not pass an `input_shape`/`input_dim` argument to a layer. When using Sequential models, prefer using an `Input(shape)` object as the first layer in the model instead.\n",
            "  super().__init__(activity_regularizer=activity_regularizer, **kwargs)\n"
          ]
        },
        {
          "name": "stdout",
          "output_type": "stream",
          "text": [
            "\u001b[1m63/63\u001b[0m \u001b[32m━━━━━━━━━━━━━━━━━━━━\u001b[0m\u001b[37m\u001b[0m \u001b[1m0s\u001b[0m 5ms/step\n",
            "LR =:= 0.9203141235916932\n",
            "LASSO =:= 0.920313341301474\n",
            "RIDGE =:= 0.920076191531405\n",
            "EL =:= 0.298515781246934\n",
            "SVR =:= -0.029409384692581364\n",
            "DTR =:= 0.8375788204473711\n",
            "RFR =:= 0.9139937214093355\n",
            "ANN =:= 0.9095639358996173\n"
          ]
        }
      ],
      "source": [
        "model = tf.keras.Sequential([\n",
        "    tf.keras.layers.Dense(64, activation='relu', input_shape=[X_train_scaled.shape[1]]),\n",
        "    tf.keras.layers.Dense(128, activation='relu', input_shape=[X_train_scaled.shape[1]]),\n",
        "    tf.keras.layers.Dense(256, activation='relu', input_shape=[X_train_scaled.shape[1]]),\n",
        "    tf.keras.layers.Dense(256, activation='relu', input_shape=[X_train_scaled.shape[1]]),\n",
        "    tf.keras.layers.Dense(128, activation='relu', input_shape=[X_train_scaled.shape[1]]),\n",
        "    tf.keras.layers.Dense(32, activation='relu'),\n",
        "    tf.keras.layers.Dense(1)\n",
        "])\n",
        "\n",
        "# Compile the model\n",
        "model.compile(optimizer='adam', loss='mean_squared_error')\n",
        "\n",
        "# Train the model\n",
        "t1 = time.time()\n",
        "model.fit(X_train_scaled, y_train, epochs=200, verbose=0)\n",
        "t2 = time.time()\n",
        "\n",
        "# Predict and evaluate\n",
        "y_pred_ann = model.predict(X_test_scaled)\n",
        "mse['ANN'] = mean_squared_error(y_test, y_pred_ann)\n",
        "r2s['ANN'] = r2_score(y_test, y_pred_ann)\n",
        "t['ANN'] = t2 - t1\n",
        "\n",
        "for i, j in r2s.items():\n",
        "  print(i, '=:=', j)\n"
      ]
    }
  ],
  "metadata": {
    "colab": {
      "provenance": []
    },
    "kernelspec": {
      "display_name": "Python 3",
      "name": "python3"
    },
    "language_info": {
      "codemirror_mode": {
        "name": "ipython",
        "version": 3
      },
      "file_extension": ".py",
      "mimetype": "text/x-python",
      "name": "python",
      "nbconvert_exporter": "python",
      "pygments_lexer": "ipython3",
      "version": "3.12.1"
    }
  },
  "nbformat": 4,
  "nbformat_minor": 0
}
